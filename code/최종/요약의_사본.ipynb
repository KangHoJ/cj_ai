{
  "cells": [
    {
      "cell_type": "code",
      "source": [
        "!pip install pip --upgrade\n",
        "!pip3 install newspaper3k\n",
        "!apt-get install g++ openjdk-7-jdk # Install Java 1.7+\n",
        "!apt-get install python3-dev; pip3 install konlpy   # Python 3.x\n",
        "!git clone https://github.com/lovit/textrank.git"
      ],
      "metadata": {
        "colab": {
          "base_uri": "https://localhost:8080/"
        },
        "id": "O0uBmv5xVC_V",
        "outputId": "f84472d4-6cbd-4be3-ed26-ac68c89a1941"
      },
      "execution_count": null,
      "outputs": [
        {
          "output_type": "stream",
          "name": "stdout",
          "text": [
            "Requirement already satisfied: newspaper3k in /usr/local/lib/python3.10/dist-packages (0.2.8)\n",
            "Requirement already satisfied: beautifulsoup4>=4.4.1 in /usr/local/lib/python3.10/dist-packages (from newspaper3k) (4.11.2)\n",
            "Requirement already satisfied: Pillow>=3.3.0 in /usr/local/lib/python3.10/dist-packages (from newspaper3k) (9.4.0)\n",
            "Requirement already satisfied: PyYAML>=3.11 in /usr/local/lib/python3.10/dist-packages (from newspaper3k) (6.0.1)\n",
            "Requirement already satisfied: cssselect>=0.9.2 in /usr/local/lib/python3.10/dist-packages (from newspaper3k) (1.2.0)\n",
            "Requirement already satisfied: lxml>=3.6.0 in /usr/local/lib/python3.10/dist-packages (from newspaper3k) (4.9.3)\n",
            "Requirement already satisfied: nltk>=3.2.1 in /usr/local/lib/python3.10/dist-packages (from newspaper3k) (3.8.1)\n",
            "Requirement already satisfied: requests>=2.10.0 in /usr/local/lib/python3.10/dist-packages (from newspaper3k) (2.31.0)\n",
            "Requirement already satisfied: feedparser>=5.2.1 in /usr/local/lib/python3.10/dist-packages (from newspaper3k) (6.0.10)\n",
            "Requirement already satisfied: tldextract>=2.0.1 in /usr/local/lib/python3.10/dist-packages (from newspaper3k) (5.0.1)\n",
            "Requirement already satisfied: feedfinder2>=0.0.4 in /usr/local/lib/python3.10/dist-packages (from newspaper3k) (0.0.4)\n",
            "Requirement already satisfied: jieba3k>=0.35.1 in /usr/local/lib/python3.10/dist-packages (from newspaper3k) (0.35.1)\n",
            "Requirement already satisfied: python-dateutil>=2.5.3 in /usr/local/lib/python3.10/dist-packages (from newspaper3k) (2.8.2)\n",
            "Requirement already satisfied: tinysegmenter==0.3 in /usr/local/lib/python3.10/dist-packages (from newspaper3k) (0.3)\n",
            "Requirement already satisfied: soupsieve>1.2 in /usr/local/lib/python3.10/dist-packages (from beautifulsoup4>=4.4.1->newspaper3k) (2.5)\n",
            "Requirement already satisfied: six in /usr/local/lib/python3.10/dist-packages (from feedfinder2>=0.0.4->newspaper3k) (1.16.0)\n",
            "Requirement already satisfied: sgmllib3k in /usr/local/lib/python3.10/dist-packages (from feedparser>=5.2.1->newspaper3k) (1.0.0)\n",
            "Requirement already satisfied: click in /usr/local/lib/python3.10/dist-packages (from nltk>=3.2.1->newspaper3k) (8.1.7)\n",
            "Requirement already satisfied: joblib in /usr/local/lib/python3.10/dist-packages (from nltk>=3.2.1->newspaper3k) (1.3.2)\n",
            "Requirement already satisfied: regex>=2021.8.3 in /usr/local/lib/python3.10/dist-packages (from nltk>=3.2.1->newspaper3k) (2023.6.3)\n",
            "Requirement already satisfied: tqdm in /usr/local/lib/python3.10/dist-packages (from nltk>=3.2.1->newspaper3k) (4.66.1)\n",
            "Requirement already satisfied: charset-normalizer<4,>=2 in /usr/local/lib/python3.10/dist-packages (from requests>=2.10.0->newspaper3k) (3.3.1)\n",
            "Requirement already satisfied: idna<4,>=2.5 in /usr/local/lib/python3.10/dist-packages (from requests>=2.10.0->newspaper3k) (3.4)\n",
            "Requirement already satisfied: urllib3<3,>=1.21.1 in /usr/local/lib/python3.10/dist-packages (from requests>=2.10.0->newspaper3k) (2.0.7)\n",
            "Requirement already satisfied: certifi>=2017.4.17 in /usr/local/lib/python3.10/dist-packages (from requests>=2.10.0->newspaper3k) (2023.7.22)\n",
            "Requirement already satisfied: requests-file>=1.4 in /usr/local/lib/python3.10/dist-packages (from tldextract>=2.0.1->newspaper3k) (1.5.1)\n",
            "Requirement already satisfied: filelock>=3.0.8 in /usr/local/lib/python3.10/dist-packages (from tldextract>=2.0.1->newspaper3k) (3.12.4)\n"
          ]
        }
      ]
    },
    {
      "cell_type": "code",
      "source": [
        "from newspaper import Article\n",
        "import re\n",
        "\n",
        "def crawling(url):\n",
        "    # url = input('url을 입력하세요')\n",
        "    article = Article(url,laguage='ko')\n",
        "    article.download()\n",
        "    article.parse()\n",
        "    title = article.title\n",
        "    text = article.text\n",
        "    text = '.'.join(article.text.split('.')[:-2:])\n",
        "    pattern = '[\\n]' #추가코드 #특수기호제거\n",
        "    text = re.sub(pattern=pattern, repl='', string=text) #추가코드 #특수기호제거\n",
        "    # text = ''.join(text.split('기자) ')[1]) # split 할 경우\n",
        "    # text = re.search(r'기자\\)\\s*(.*)', text)[1] # 정규표현식으로 할경우\n",
        "    return title , text"
      ],
      "metadata": {
        "id": "XuNAWlhIVBpU"
      },
      "execution_count": null,
      "outputs": []
    },
    {
      "cell_type": "markdown",
      "source": [
        "https://www.hani.co.kr/arti/culture/entertainment/816895.html"
      ],
      "metadata": {
        "id": "7fGdQqaiU4nV"
      }
    },
    {
      "cell_type": "code",
      "source": [
        "from konlpy.tag import Komoran\n",
        "\n",
        "news_title, news_text = crawling(\"https://www.hani.co.kr/arti/culture/entertainment/816895.html\")\n",
        "raw_lines = news_text.split('.')\n",
        "article = \"\"\n",
        "for line in raw_lines:\n",
        "  pattern = '^[ ]'# 특수기호제거\n",
        "  line = re.sub(pattern=pattern, repl='', string=line)\n",
        "  article = article + line + \"\\n\"\n",
        "\n",
        "komoran = Komoran()\n",
        "def komoran_tokenize(sent):\n",
        "    words = komoran.pos(sent, join=True)\n",
        "    words = [w for w in words if ('/NN' in w or '/XR' in w or '/VA' in w or '/VV' in w)]\n",
        "    return words\n",
        "\n",
        "T_article = \"\" #본문 변수 초기화\n",
        "for i in range(len(raw_lines)):\n",
        "  line = komoran_tokenize(raw_lines[i]) #n번째 줄 토큰화\n",
        "  sentence = \"\" #문장 변수 초기화\n",
        "  for j in line:\n",
        "    sentence = sentence + j + \" \" #토큰화 텍스트 합치기\n",
        "  T_article = T_article + sentence + \"\\n\" #본문 변수에 합친 토큰화 문장 넣기\n",
        "\n",
        "sents = T_article.split('\\n')\n",
        "texts = article.split('\\n')"
      ],
      "metadata": {
        "id": "IoyWjd8LUic5"
      },
      "execution_count": null,
      "outputs": []
    },
    {
      "cell_type": "code",
      "execution_count": null,
      "metadata": {
        "colab": {
          "base_uri": "https://localhost:8080/"
        },
        "id": "E5aEoh00UMG9",
        "outputId": "2da9ff86-eee1-47df-efe5-29e00681610f"
      },
      "outputs": [
        {
          "output_type": "stream",
          "name": "stdout",
          "text": [
            "\rcalculating textrank sentence similarity 0 / 10\rcalculating textrank sentence similarity was done with 10 sents\n",
            "trained TextRank. n sentences = 10\n",
            "#2 (1.32) : 배우 송혜교(35), 송중기(32)는 이날 오후 하객 300명이 참석한 가운데 서울 신라호텔 영빈관에서 결혼식을 올렸다\n",
            "\n",
            "#0 (1.13) : 31일 결혼식을 올린 ‘송송커플’과 중국배우 장쯔이\n",
            "\n",
            "#7 (1.03) : 두 사람은 신혼여행을 바로 떠나지는 않았으며, 송중기가 지난 1월 마련한 서울 용산구 이태원의 단독 주택에 신혼살림을 차릴 것으로 전해졌다\n",
            "\n",
            "#5 (0.862) : 두 사람은 지난해 폭발적인 인기를 모은 드라마 <태양의 후예>에 함께 출연하며 사랑을 키웠고, 지난 7월 결혼 소식을 발표했다\n",
            "\n",
            "#3 (0.848) : 가수 옥주현이 축가를 불렀고, 송중기의 ‘절친’인 배우 이광수가 신랑·신부의 미래를 축복하며 편지를 낭송했다\n",
            "\n",
            "#1 (0.811) : 태양의 후예>(KBS)가 빚어낸 ‘송송커플’이 31일 화촉을 밝혔다\n",
            "\n",
            "#9 (0.15) : \n",
            "\n",
            "#8 (0.15) : 이주현 기자 edigna@hani\n",
            "\n",
            "#6 (0.15) : 이들은 지난해 연말 ‘KBS 연기대상’ 대상을 공동수상하기도 했다\n",
            "\n",
            "#4 (0.15) : 결혼식은 외부 비공개로 진행됐지만 예식 장소가 야외라 결혼식을 보려는 국내외 팬들이 장사진을 이뤘다\n",
            "\n"
          ]
        }
      ],
      "source": [
        "from textrank.textrank.summarizer import KeywordSummarizer\n",
        "from textrank.textrank.summarizer import KeysentenceSummarizer\n",
        "\n",
        "def komoran_tokenize(sent):\n",
        "    words = sent.split()\n",
        "    words = [w for w in words if ('/NN' in w or '/XR' in w or '/VA' in w or '/VV' in w)]\n",
        "    return words\n",
        "\n",
        "keyword_extractor = KeywordSummarizer(\n",
        "    tokenize = komoran_tokenize,\n",
        "    window = -1,\n",
        "    verbose = False\n",
        ")\n",
        "summarizer = KeysentenceSummarizer(\n",
        "    tokenize = komoran_tokenize,\n",
        "    min_sim = 0.5,\n",
        "    verbose = True\n",
        ")\n",
        "keysents = summarizer.summarize(sents)\n",
        "i = 0\n",
        "for idx, rank, komoran_sent in keysents:\n",
        "    print('#{} ({:.3}) : {}'.format(idx, rank, texts[idx]), end='\\n\\n')"
      ]
    }
  ],
  "metadata": {
    "kernelspec": {
      "display_name": "Python 3",
      "language": "python",
      "name": "python3"
    },
    "language_info": {
      "codemirror_mode": {
        "name": "ipython",
        "version": 3
      },
      "file_extension": ".py",
      "mimetype": "text/x-python",
      "name": "python",
      "nbconvert_exporter": "python",
      "pygments_lexer": "ipython3",
      "version": "3.7.1"
    },
    "colab": {
      "provenance": []
    }
  },
  "nbformat": 4,
  "nbformat_minor": 0
}