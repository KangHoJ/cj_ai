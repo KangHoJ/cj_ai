{
 "cells": [
  {
   "cell_type": "code",
   "execution_count": 1,
   "metadata": {},
   "outputs": [],
   "source": [
    "import pandas as pd\n",
    "import numpy as np\n",
    "import seaborn as sns\n",
    "import matplotlib.pyplot as plt"
   ]
  },
  {
   "cell_type": "code",
   "execution_count": 2,
   "metadata": {},
   "outputs": [],
   "source": [
    "df = pd.read_csv('df_final.csv')"
   ]
  },
  {
   "cell_type": "code",
   "execution_count": 3,
   "metadata": {},
   "outputs": [
    {
     "data": {
      "text/html": [
       "<div>\n",
       "<style scoped>\n",
       "    .dataframe tbody tr th:only-of-type {\n",
       "        vertical-align: middle;\n",
       "    }\n",
       "\n",
       "    .dataframe tbody tr th {\n",
       "        vertical-align: top;\n",
       "    }\n",
       "\n",
       "    .dataframe thead th {\n",
       "        text-align: right;\n",
       "    }\n",
       "</style>\n",
       "<table border=\"1\" class=\"dataframe\">\n",
       "  <thead>\n",
       "    <tr style=\"text-align: right;\">\n",
       "      <th></th>\n",
       "      <th>Unnamed: 0</th>\n",
       "      <th>newsID</th>\n",
       "      <th>newsCategory</th>\n",
       "      <th>newsSubcategory</th>\n",
       "      <th>newsTitle</th>\n",
       "      <th>newsSubTitle</th>\n",
       "      <th>newsContent</th>\n",
       "      <th>partNum</th>\n",
       "      <th>useType</th>\n",
       "      <th>processType</th>\n",
       "      <th>processPattern</th>\n",
       "      <th>processLevel</th>\n",
       "      <th>sentenceCount</th>\n",
       "      <th>sentenceInfo</th>\n",
       "    </tr>\n",
       "  </thead>\n",
       "  <tbody>\n",
       "    <tr>\n",
       "      <th>0</th>\n",
       "      <td>0</td>\n",
       "      <td>EC_M05_241847</td>\n",
       "      <td>경제</td>\n",
       "      <td>중기밴처</td>\n",
       "      <td>CCTV 영상으로 핫해진 에스원</td>\n",
       "      <td>에스원 자체 제작 영상, 유튜브·틱톡 조회수 3500만회 돌파 유튜버들과 협업한 콘...</td>\n",
       "      <td>#. 서울의 한 카페, 아르바이트생이 마감 청소 중 춤을 추고 있다.\\n춤 솜씨가 ...</td>\n",
       "      <td>P1</td>\n",
       "      <td>1</td>\n",
       "      <td>A</td>\n",
       "      <td>0</td>\n",
       "      <td>하</td>\n",
       "      <td>15</td>\n",
       "      <td>[{'sentenceNo': 1, 'sentenceContent': '#. 서울의 ...</td>\n",
       "    </tr>\n",
       "    <tr>\n",
       "      <th>1</th>\n",
       "      <td>1</td>\n",
       "      <td>EC_M05_241848</td>\n",
       "      <td>경제</td>\n",
       "      <td>유통</td>\n",
       "      <td>홈플러스, 신년 '반값, 하나 더 데이' 행사…하루 빠른 31일 시작</td>\n",
       "      <td>NaN</td>\n",
       "      <td>홈플러스는 새해 첫 쇼핑 축제 '반값, 하나 더 데이' 행사를 경쟁사 대비 하루 빠...</td>\n",
       "      <td>P1</td>\n",
       "      <td>1</td>\n",
       "      <td>A</td>\n",
       "      <td>0</td>\n",
       "      <td>하</td>\n",
       "      <td>8</td>\n",
       "      <td>[{'sentenceNo': 1, 'sentenceContent': \"홈플러스는 새...</td>\n",
       "    </tr>\n",
       "    <tr>\n",
       "      <th>2</th>\n",
       "      <td>2</td>\n",
       "      <td>EC_M05_241851</td>\n",
       "      <td>경제</td>\n",
       "      <td>유통</td>\n",
       "      <td>제주삼다수, 글로벌 품질 인증 갱신</td>\n",
       "      <td>NaN</td>\n",
       "      <td>제주특별자치도개발공사는 제주삼다수의 품질경영표준 ISO9001을 갱신함과 동시에 미...</td>\n",
       "      <td>P1</td>\n",
       "      <td>1</td>\n",
       "      <td>A</td>\n",
       "      <td>0</td>\n",
       "      <td>하</td>\n",
       "      <td>6</td>\n",
       "      <td>[{'sentenceNo': 1, 'sentenceContent': '제주특별자치도...</td>\n",
       "    </tr>\n",
       "  </tbody>\n",
       "</table>\n",
       "</div>"
      ],
      "text/plain": [
       "   Unnamed: 0         newsID newsCategory newsSubcategory  \\\n",
       "0           0  EC_M05_241847           경제            중기밴처   \n",
       "1           1  EC_M05_241848           경제              유통   \n",
       "2           2  EC_M05_241851           경제              유통   \n",
       "\n",
       "                                newsTitle  \\\n",
       "0                       CCTV 영상으로 핫해진 에스원   \n",
       "1  홈플러스, 신년 '반값, 하나 더 데이' 행사…하루 빠른 31일 시작   \n",
       "2                     제주삼다수, 글로벌 품질 인증 갱신   \n",
       "\n",
       "                                        newsSubTitle  \\\n",
       "0  에스원 자체 제작 영상, 유튜브·틱톡 조회수 3500만회 돌파 유튜버들과 협업한 콘...   \n",
       "1                                                NaN   \n",
       "2                                                NaN   \n",
       "\n",
       "                                         newsContent partNum  useType  \\\n",
       "0  #. 서울의 한 카페, 아르바이트생이 마감 청소 중 춤을 추고 있다.\\n춤 솜씨가 ...      P1        1   \n",
       "1  홈플러스는 새해 첫 쇼핑 축제 '반값, 하나 더 데이' 행사를 경쟁사 대비 하루 빠...      P1        1   \n",
       "2  제주특별자치도개발공사는 제주삼다수의 품질경영표준 ISO9001을 갱신함과 동시에 미...      P1        1   \n",
       "\n",
       "  processType  processPattern processLevel  sentenceCount  \\\n",
       "0           A               0            하             15   \n",
       "1           A               0            하              8   \n",
       "2           A               0            하              6   \n",
       "\n",
       "                                        sentenceInfo  \n",
       "0  [{'sentenceNo': 1, 'sentenceContent': '#. 서울의 ...  \n",
       "1  [{'sentenceNo': 1, 'sentenceContent': \"홈플러스는 새...  \n",
       "2  [{'sentenceNo': 1, 'sentenceContent': '제주특별자치도...  "
      ]
     },
     "execution_count": 3,
     "metadata": {},
     "output_type": "execute_result"
    }
   ],
   "source": [
    "df.head(3)"
   ]
  },
  {
   "cell_type": "code",
   "execution_count": 4,
   "metadata": {},
   "outputs": [],
   "source": [
    "df = df[['newsCategory','newsTitle','newsSubTitle','newsContent','useType','partNum','processPattern','sentenceCount']]\n",
    "# df.to_csv('new_df_final.csv')"
   ]
  },
  {
   "cell_type": "code",
   "execution_count": 5,
   "metadata": {},
   "outputs": [
    {
     "data": {
      "text/plain": [
       "processPattern\n",
       "0    314093\n",
       "Name: count, dtype: int64"
      ]
     },
     "execution_count": 5,
     "metadata": {},
     "output_type": "execute_result"
    }
   ],
   "source": [
    "df[df['useType']==1]['processPattern'].value_counts()"
   ]
  },
  {
   "cell_type": "code",
   "execution_count": 6,
   "metadata": {},
   "outputs": [
    {
     "data": {
      "text/plain": [
       "processPattern\n",
       "99    242797\n",
       "24     19821\n",
       "11     18104\n",
       "23     12233\n",
       "12     10580\n",
       "21      7333\n",
       "22      5731\n",
       "15      4968\n",
       "14      4643\n",
       "13      4290\n",
       "16      2526\n",
       "Name: count, dtype: int64"
      ]
     },
     "execution_count": 6,
     "metadata": {},
     "output_type": "execute_result"
    }
   ],
   "source": [
    "df[df['useType']==0]['processPattern'].value_counts()"
   ]
  },
  {
   "cell_type": "code",
   "execution_count": 7,
   "metadata": {},
   "outputs": [
    {
     "data": {
      "text/plain": [
       "newsCategory           0\n",
       "newsTitle              0\n",
       "newsSubTitle      430050\n",
       "newsContent            0\n",
       "useType                0\n",
       "partNum                0\n",
       "processPattern         0\n",
       "sentenceCount          0\n",
       "dtype: int64"
      ]
     },
     "execution_count": 7,
     "metadata": {},
     "output_type": "execute_result"
    }
   ],
   "source": [
    "df.isnull().sum() # newsSubTitle 결측치를 어떻게 할건지  ??"
   ]
  },
  {
   "cell_type": "code",
   "execution_count": 8,
   "metadata": {},
   "outputs": [
    {
     "data": {
      "text/plain": [
       "<Axes: xlabel='partNum', ylabel='count'>"
      ]
     },
     "execution_count": 8,
     "metadata": {},
     "output_type": "execute_result"
    },
    {
     "data": {
      "image/png": "[encoded data removed]",
      "text/plain": [
       "<Figure size 640x480 with 1 Axes>"
      ]
     },
     "metadata": {},
     "output_type": "display_data"
    }
   ],
   "source": [
    "sns.countplot(x='partNum',data=df)"
   ]
  },
  {
   "cell_type": "code",
   "execution_count": 9,
   "metadata": {},
   "outputs": [
    {
     "data": {
      "text/plain": [
       "568709    6336\n",
       "640279    6300\n",
       "554902    5996\n",
       "546289    5887\n",
       "396949    5808\n",
       "          ... \n",
       "465449     163\n",
       "80978      163\n",
       "376123     163\n",
       "547621     141\n",
       "205837     118\n",
       "Name: newsContent, Length: 647119, dtype: int64"
      ]
     },
     "execution_count": 9,
     "metadata": {},
     "output_type": "execute_result"
    }
   ],
   "source": [
    "df['newsContent'].apply(lambda x : len(x)).sort_values(ascending=False) # 6000자 이상 되는것도 있음 "
   ]
  },
  {
   "cell_type": "code",
   "execution_count": 10,
   "metadata": {},
   "outputs": [
    {
     "data": {
      "text/plain": [
       "useType\n",
       "0    333026\n",
       "1    314093\n",
       "Name: count, dtype: int64"
      ]
     },
     "execution_count": 10,
     "metadata": {},
     "output_type": "execute_result"
    }
   ],
   "source": [
    "df['useType'].value_counts()"
   ]
  },
  {
   "cell_type": "code",
   "execution_count": 11,
   "metadata": {},
   "outputs": [
    {
     "data": {
      "text/plain": [
       "processPattern\n",
       "0     314093\n",
       "99    242797\n",
       "24     19821\n",
       "11     18104\n",
       "23     12233\n",
       "12     10580\n",
       "21      7333\n",
       "22      5731\n",
       "15      4968\n",
       "14      4643\n",
       "13      4290\n",
       "16      2526\n",
       "Name: count, dtype: int64"
      ]
     },
     "execution_count": 11,
     "metadata": {},
     "output_type": "execute_result"
    }
   ],
   "source": [
    "df['processPattern'].value_counts()  # 유형 없는것들이 많은데 학습이 잘 될까 ?"
   ]
  },
  {
   "cell_type": "code",
   "execution_count": 12,
   "metadata": {},
   "outputs": [],
   "source": [
    "df.dropna(subset='newsSubTitle',inplace=True)"
   ]
  },
  {
   "cell_type": "code",
   "execution_count": 13,
   "metadata": {},
   "outputs": [
    {
     "data": {
      "text/html": [
       "<div>\n",
       "<style scoped>\n",
       "    .dataframe tbody tr th:only-of-type {\n",
       "        vertical-align: middle;\n",
       "    }\n",
       "\n",
       "    .dataframe tbody tr th {\n",
       "        vertical-align: top;\n",
       "    }\n",
       "\n",
       "    .dataframe thead th {\n",
       "        text-align: right;\n",
       "    }\n",
       "</style>\n",
       "<table border=\"1\" class=\"dataframe\">\n",
       "  <thead>\n",
       "    <tr style=\"text-align: right;\">\n",
       "      <th></th>\n",
       "      <th>newsCategory</th>\n",
       "      <th>newsTitle</th>\n",
       "      <th>newsSubTitle</th>\n",
       "      <th>newsContent</th>\n",
       "      <th>useType</th>\n",
       "      <th>partNum</th>\n",
       "      <th>processPattern</th>\n",
       "      <th>sentenceCount</th>\n",
       "    </tr>\n",
       "  </thead>\n",
       "  <tbody>\n",
       "    <tr>\n",
       "      <th>0</th>\n",
       "      <td>경제</td>\n",
       "      <td>CCTV 영상으로 핫해진 에스원</td>\n",
       "      <td>에스원 자체 제작 영상, 유튜브·틱톡 조회수 3500만회 돌파 유튜버들과 협업한 콘...</td>\n",
       "      <td>#. 서울의 한 카페, 아르바이트생이 마감 청소 중 춤을 추고 있다.\\n춤 솜씨가 ...</td>\n",
       "      <td>1</td>\n",
       "      <td>P1</td>\n",
       "      <td>0</td>\n",
       "      <td>15</td>\n",
       "    </tr>\n",
       "    <tr>\n",
       "      <th>4</th>\n",
       "      <td>경제</td>\n",
       "      <td>홍남기 \\\"항만사용료 감면 6개월 더\\\"…코로나 장기화에 한시조치 줄줄이 연장(상보)</td>\n",
       "      <td>비상경제 중앙대책본부회의</td>\n",
       "      <td>정부가 당초 올해 말까지 시행하려던 항만사용료 및 터미널 임대료 감면조치를 내년 6...</td>\n",
       "      <td>1</td>\n",
       "      <td>P1</td>\n",
       "      <td>0</td>\n",
       "      <td>13</td>\n",
       "    </tr>\n",
       "    <tr>\n",
       "      <th>5</th>\n",
       "      <td>경제</td>\n",
       "      <td>김학도 중진공 이사장, 정책자금 접수 첫날 점검 나서</td>\n",
       "      <td>2022년 정책자금 신청·접수 진행 상황 확인…신속 집행 독려 모바일 브랜치 도입,...</td>\n",
       "      <td>중소벤처기업진흥공단(이하 중진공)은 김학도 이사장이 30일 경남 진주 중진공 본사에...</td>\n",
       "      <td>1</td>\n",
       "      <td>P1</td>\n",
       "      <td>0</td>\n",
       "      <td>10</td>\n",
       "    </tr>\n",
       "    <tr>\n",
       "      <th>6</th>\n",
       "      <td>경제</td>\n",
       "      <td>내년 車제도 어떻게 달라지나…개소세 인하 연장·전기차 보조금 축소</td>\n",
       "      <td>경차 취득세 감면 한도·시한 확대…공공기관 무공해차 의무구매비율 100%로</td>\n",
       "      <td>올해 말로 종료될 예정이었던 자동차 개별소비세 인하가 내년 6월까지 약 6개월 간 ...</td>\n",
       "      <td>1</td>\n",
       "      <td>P1</td>\n",
       "      <td>0</td>\n",
       "      <td>10</td>\n",
       "    </tr>\n",
       "    <tr>\n",
       "      <th>8</th>\n",
       "      <td>경제</td>\n",
       "      <td>신한카드, 디지털화폐 오프라인 송금·지불 특허 취득</td>\n",
       "      <td>디지털 화폐 연구개발 강화 CBDC 등 오프라인 송금·지불하는 기술 특허 취득</td>\n",
       "      <td>신한카드가 미래 페이먼트 인프라 핵심인 디지털 화폐 연구개발을 강화한다.\\n신한카드...</td>\n",
       "      <td>1</td>\n",
       "      <td>P1</td>\n",
       "      <td>0</td>\n",
       "      <td>11</td>\n",
       "    </tr>\n",
       "    <tr>\n",
       "      <th>...</th>\n",
       "      <td>...</td>\n",
       "      <td>...</td>\n",
       "      <td>...</td>\n",
       "      <td>...</td>\n",
       "      <td>...</td>\n",
       "      <td>...</td>\n",
       "      <td>...</td>\n",
       "      <td>...</td>\n",
       "    </tr>\n",
       "    <tr>\n",
       "      <th>647113</th>\n",
       "      <td>사회</td>\n",
       "      <td>10명 중 6명 \\\"올해 설에도 가족 끼리 보낼 것\\\"…대신 선물은 고가로</td>\n",
       "      <td>롯데멤버스 성인 1,500명 설문10명 중 6명 \\\"설에도 가족끼리\\\"귀성 대신 선...</td>\n",
       "      <td>신종 코로나바이러스 감염증(코로나19) 사태가 1년을 맞은 가운데 성인 남녀 10명...</td>\n",
       "      <td>0</td>\n",
       "      <td>P1</td>\n",
       "      <td>12</td>\n",
       "      <td>17</td>\n",
       "    </tr>\n",
       "    <tr>\n",
       "      <th>647114</th>\n",
       "      <td>사회</td>\n",
       "      <td>25년 산통 끝 공수처 출범…처장 집중 권력에 ‘옥상옥’ 우려도</td>\n",
       "      <td>\\\"검찰총장은 법무장관이 견제...공수처장은 없다\\\"</td>\n",
       "      <td>1996년 이후 추진과 무산이 반복되는 25년 산고 끝에 고위공직자범죄수사처(공수처...</td>\n",
       "      <td>0</td>\n",
       "      <td>P1</td>\n",
       "      <td>12</td>\n",
       "      <td>26</td>\n",
       "    </tr>\n",
       "    <tr>\n",
       "      <th>647115</th>\n",
       "      <td>사회</td>\n",
       "      <td>北대사 대리 잇단 탈북...이유는</td>\n",
       "      <td>외화벌이 금지 등 대북제재 강화에 추방 잇따라이탈리아 이어 쿠웨이트 대사대리도 국내...</td>\n",
       "      <td>북한 조성길 전 주이탈리아 대사대리에 이어 전 주쿠웨이트 대사대리도 한국에 입국한 ...</td>\n",
       "      <td>0</td>\n",
       "      <td>P1</td>\n",
       "      <td>12</td>\n",
       "      <td>19</td>\n",
       "    </tr>\n",
       "    <tr>\n",
       "      <th>647116</th>\n",
       "      <td>사회</td>\n",
       "      <td>[단독] 靑청원서 폭로한 기획부동산 실체…\\\"구인광고로 상담원 모아 피라미드식 판매...</td>\n",
       "      <td>&lt;중&gt;수렁에 빠진 땅 매수자들▶사기 수법은실적 못내면 압박, 직원들 노려</td>\n",
       "      <td>“기획부동산이 서민들의 피 같은 생활자금과 여유자금, 종자돈을 투자하게 해 막대한 ...</td>\n",
       "      <td>0</td>\n",
       "      <td>P1</td>\n",
       "      <td>12</td>\n",
       "      <td>17</td>\n",
       "    </tr>\n",
       "    <tr>\n",
       "      <th>647117</th>\n",
       "      <td>사회</td>\n",
       "      <td>경찰, '김종철 성추행' 수사 착수…장혜영 반발에 활빈단 \\\"성추행 고발 뭐가 문제냐\\\"</td>\n",
       "      <td>경찰, 시민단체가 고발한 '김종철 성추행 사건' 수사 착수\\\"친고죄 폐지는 피해자 ...</td>\n",
       "      <td>경찰이 김종철 전 정의당 대표에 대한 시민단체들의 성추행 고발 사건 수사에 착수했다...</td>\n",
       "      <td>0</td>\n",
       "      <td>P1</td>\n",
       "      <td>12</td>\n",
       "      <td>13</td>\n",
       "    </tr>\n",
       "  </tbody>\n",
       "</table>\n",
       "<p>217069 rows × 8 columns</p>\n",
       "</div>"
      ],
      "text/plain": [
       "       newsCategory                                          newsTitle  \\\n",
       "0                경제                                  CCTV 영상으로 핫해진 에스원   \n",
       "4                경제    홍남기 \\\"항만사용료 감면 6개월 더\\\"…코로나 장기화에 한시조치 줄줄이 연장(상보)   \n",
       "5                경제                      김학도 중진공 이사장, 정책자금 접수 첫날 점검 나서   \n",
       "6                경제               내년 車제도 어떻게 달라지나…개소세 인하 연장·전기차 보조금 축소   \n",
       "8                경제                       신한카드, 디지털화폐 오프라인 송금·지불 특허 취득   \n",
       "...             ...                                                ...   \n",
       "647113           사회          10명 중 6명 \\\"올해 설에도 가족 끼리 보낼 것\\\"…대신 선물은 고가로   \n",
       "647114           사회                25년 산통 끝 공수처 출범…처장 집중 권력에 ‘옥상옥’ 우려도   \n",
       "647115           사회                                 北대사 대리 잇단 탈북...이유는   \n",
       "647116           사회  [단독] 靑청원서 폭로한 기획부동산 실체…\\\"구인광고로 상담원 모아 피라미드식 판매...   \n",
       "647117           사회  경찰, '김종철 성추행' 수사 착수…장혜영 반발에 활빈단 \\\"성추행 고발 뭐가 문제냐\\\"   \n",
       "\n",
       "                                             newsSubTitle  \\\n",
       "0       에스원 자체 제작 영상, 유튜브·틱톡 조회수 3500만회 돌파 유튜버들과 협업한 콘...   \n",
       "4                                           비상경제 중앙대책본부회의   \n",
       "5       2022년 정책자금 신청·접수 진행 상황 확인…신속 집행 독려 모바일 브랜치 도입,...   \n",
       "6               경차 취득세 감면 한도·시한 확대…공공기관 무공해차 의무구매비율 100%로   \n",
       "8             디지털 화폐 연구개발 강화 CBDC 등 오프라인 송금·지불하는 기술 특허 취득   \n",
       "...                                                   ...   \n",
       "647113  롯데멤버스 성인 1,500명 설문10명 중 6명 \\\"설에도 가족끼리\\\"귀성 대신 선...   \n",
       "647114                      \\\"검찰총장은 법무장관이 견제...공수처장은 없다\\\"   \n",
       "647115  외화벌이 금지 등 대북제재 강화에 추방 잇따라이탈리아 이어 쿠웨이트 대사대리도 국내...   \n",
       "647116           <중>수렁에 빠진 땅 매수자들▶사기 수법은실적 못내면 압박, 직원들 노려   \n",
       "647117  경찰, 시민단체가 고발한 '김종철 성추행 사건' 수사 착수\\\"친고죄 폐지는 피해자 ...   \n",
       "\n",
       "                                              newsContent  useType partNum  \\\n",
       "0       #. 서울의 한 카페, 아르바이트생이 마감 청소 중 춤을 추고 있다.\\n춤 솜씨가 ...        1      P1   \n",
       "4       정부가 당초 올해 말까지 시행하려던 항만사용료 및 터미널 임대료 감면조치를 내년 6...        1      P1   \n",
       "5       중소벤처기업진흥공단(이하 중진공)은 김학도 이사장이 30일 경남 진주 중진공 본사에...        1      P1   \n",
       "6       올해 말로 종료될 예정이었던 자동차 개별소비세 인하가 내년 6월까지 약 6개월 간 ...        1      P1   \n",
       "8       신한카드가 미래 페이먼트 인프라 핵심인 디지털 화폐 연구개발을 강화한다.\\n신한카드...        1      P1   \n",
       "...                                                   ...      ...     ...   \n",
       "647113  신종 코로나바이러스 감염증(코로나19) 사태가 1년을 맞은 가운데 성인 남녀 10명...        0      P1   \n",
       "647114  1996년 이후 추진과 무산이 반복되는 25년 산고 끝에 고위공직자범죄수사처(공수처...        0      P1   \n",
       "647115  북한 조성길 전 주이탈리아 대사대리에 이어 전 주쿠웨이트 대사대리도 한국에 입국한 ...        0      P1   \n",
       "647116  “기획부동산이 서민들의 피 같은 생활자금과 여유자금, 종자돈을 투자하게 해 막대한 ...        0      P1   \n",
       "647117  경찰이 김종철 전 정의당 대표에 대한 시민단체들의 성추행 고발 사건 수사에 착수했다...        0      P1   \n",
       "\n",
       "        processPattern  sentenceCount  \n",
       "0                    0             15  \n",
       "4                    0             13  \n",
       "5                    0             10  \n",
       "6                    0             10  \n",
       "8                    0             11  \n",
       "...                ...            ...  \n",
       "647113              12             17  \n",
       "647114              12             26  \n",
       "647115              12             19  \n",
       "647116              12             17  \n",
       "647117              12             13  \n",
       "\n",
       "[217069 rows x 8 columns]"
      ]
     },
     "execution_count": 13,
     "metadata": {},
     "output_type": "execute_result"
    }
   ],
   "source": [
    "df"
   ]
  },
  {
   "cell_type": "markdown",
   "metadata": {},
   "source": [
    "## 낚시 데이터 잘 생성 된건지 ?"
   ]
  },
  {
   "cell_type": "markdown",
   "metadata": {},
   "source": [
    "### 1. 본문 , 제목 글자/단어 수 비교"
   ]
  },
  {
   "cell_type": "code",
   "execution_count": 14,
   "metadata": {},
   "outputs": [],
   "source": [
    "df_o = df[df['useType']==0]    #낚시성기사\n",
    "df_x = df[df['useType']==1]    #낚시성기사x"
   ]
  },
  {
   "cell_type": "code",
   "execution_count": 15,
   "metadata": {},
   "outputs": [
    {
     "data": {
      "text/plain": [
       "((109478, 8), (107591, 8))"
      ]
     },
     "execution_count": 15,
     "metadata": {},
     "output_type": "execute_result"
    }
   ],
   "source": [
    "df_o.shape , df_x.shape"
   ]
  },
  {
   "cell_type": "code",
   "execution_count": 16,
   "metadata": {},
   "outputs": [
    {
     "data": {
      "text/html": [
       "<div>\n",
       "<style scoped>\n",
       "    .dataframe tbody tr th:only-of-type {\n",
       "        vertical-align: middle;\n",
       "    }\n",
       "\n",
       "    .dataframe tbody tr th {\n",
       "        vertical-align: top;\n",
       "    }\n",
       "\n",
       "    .dataframe thead th {\n",
       "        text-align: right;\n",
       "    }\n",
       "</style>\n",
       "<table border=\"1\" class=\"dataframe\">\n",
       "  <thead>\n",
       "    <tr style=\"text-align: right;\">\n",
       "      <th></th>\n",
       "      <th>newsCategory</th>\n",
       "      <th>newsTitle</th>\n",
       "      <th>newsSubTitle</th>\n",
       "      <th>newsContent</th>\n",
       "      <th>useType</th>\n",
       "      <th>partNum</th>\n",
       "      <th>processPattern</th>\n",
       "      <th>sentenceCount</th>\n",
       "    </tr>\n",
       "  </thead>\n",
       "  <tbody>\n",
       "    <tr>\n",
       "      <th>133895</th>\n",
       "      <td>경제</td>\n",
       "      <td>미스터피자 점주들, 구매협동조합으로 불공정 유통구조 개선한다</td>\n",
       "      <td>타 프랜차이즈로 확대될까?</td>\n",
       "      <td>미스터피자 점주들이 구매협동조합을 설립한다.\\n가맹점주들이 구매협동조합을 설립하는 ...</td>\n",
       "      <td>0</td>\n",
       "      <td>P2</td>\n",
       "      <td>99</td>\n",
       "      <td>26</td>\n",
       "    </tr>\n",
       "    <tr>\n",
       "      <th>133908</th>\n",
       "      <td>경제</td>\n",
       "      <td>SK하이닉스,'2020 ECO 비전'...지속가능경영 중장기 목표 선언</td>\n",
       "      <td>2022년까지 온실가스 배출 40% 감축 등</td>\n",
       "      <td>SK하이닉스가 30일 '더 나은 세상을 위한 기술(Technology, for a ...</td>\n",
       "      <td>0</td>\n",
       "      <td>P2</td>\n",
       "      <td>99</td>\n",
       "      <td>19</td>\n",
       "    </tr>\n",
       "    <tr>\n",
       "      <th>133921</th>\n",
       "      <td>경제</td>\n",
       "      <td>서울 가계부채 7년새 90조 증가</td>\n",
       "      <td>부채 보유 가구의 63.0%는 원금상환과 이자 납부에 부담</td>\n",
       "      <td>서울 지역의 가계부채가 7년간 90조원 증가한 것으로 나타났다.\\n또, 서울 시민 ...</td>\n",
       "      <td>0</td>\n",
       "      <td>P2</td>\n",
       "      <td>99</td>\n",
       "      <td>27</td>\n",
       "    </tr>\n",
       "  </tbody>\n",
       "</table>\n",
       "</div>"
      ],
      "text/plain": [
       "       newsCategory                                newsTitle  \\\n",
       "133895           경제        미스터피자 점주들, 구매협동조합으로 불공정 유통구조 개선한다   \n",
       "133908           경제  SK하이닉스,'2020 ECO 비전'...지속가능경영 중장기 목표 선언   \n",
       "133921           경제                       서울 가계부채 7년새 90조 증가   \n",
       "\n",
       "                            newsSubTitle  \\\n",
       "133895                    타 프랜차이즈로 확대될까?   \n",
       "133908          2022년까지 온실가스 배출 40% 감축 등   \n",
       "133921  부채 보유 가구의 63.0%는 원금상환과 이자 납부에 부담   \n",
       "\n",
       "                                              newsContent  useType partNum  \\\n",
       "133895  미스터피자 점주들이 구매협동조합을 설립한다.\\n가맹점주들이 구매협동조합을 설립하는 ...        0      P2   \n",
       "133908  SK하이닉스가 30일 '더 나은 세상을 위한 기술(Technology, for a ...        0      P2   \n",
       "133921  서울 지역의 가계부채가 7년간 90조원 증가한 것으로 나타났다.\\n또, 서울 시민 ...        0      P2   \n",
       "\n",
       "        processPattern  sentenceCount  \n",
       "133895              99             26  \n",
       "133908              99             19  \n",
       "133921              99             27  "
      ]
     },
     "execution_count": 16,
     "metadata": {},
     "output_type": "execute_result"
    }
   ],
   "source": [
    "df_o.head(3)"
   ]
  },
  {
   "cell_type": "code",
   "execution_count": 17,
   "metadata": {},
   "outputs": [
    {
     "data": {
      "text/html": [
       "<div>\n",
       "<style scoped>\n",
       "    .dataframe tbody tr th:only-of-type {\n",
       "        vertical-align: middle;\n",
       "    }\n",
       "\n",
       "    .dataframe tbody tr th {\n",
       "        vertical-align: top;\n",
       "    }\n",
       "\n",
       "    .dataframe thead th {\n",
       "        text-align: right;\n",
       "    }\n",
       "</style>\n",
       "<table border=\"1\" class=\"dataframe\">\n",
       "  <thead>\n",
       "    <tr style=\"text-align: right;\">\n",
       "      <th></th>\n",
       "      <th>newsCategory</th>\n",
       "      <th>newsTitle</th>\n",
       "      <th>newsSubTitle</th>\n",
       "      <th>newsContent</th>\n",
       "      <th>useType</th>\n",
       "      <th>partNum</th>\n",
       "      <th>processPattern</th>\n",
       "      <th>sentenceCount</th>\n",
       "    </tr>\n",
       "  </thead>\n",
       "  <tbody>\n",
       "    <tr>\n",
       "      <th>0</th>\n",
       "      <td>경제</td>\n",
       "      <td>CCTV 영상으로 핫해진 에스원</td>\n",
       "      <td>에스원 자체 제작 영상, 유튜브·틱톡 조회수 3500만회 돌파 유튜버들과 협업한 콘...</td>\n",
       "      <td>#. 서울의 한 카페, 아르바이트생이 마감 청소 중 춤을 추고 있다.\\n춤 솜씨가 ...</td>\n",
       "      <td>1</td>\n",
       "      <td>P1</td>\n",
       "      <td>0</td>\n",
       "      <td>15</td>\n",
       "    </tr>\n",
       "    <tr>\n",
       "      <th>4</th>\n",
       "      <td>경제</td>\n",
       "      <td>홍남기 \\\"항만사용료 감면 6개월 더\\\"…코로나 장기화에 한시조치 줄줄이 연장(상보)</td>\n",
       "      <td>비상경제 중앙대책본부회의</td>\n",
       "      <td>정부가 당초 올해 말까지 시행하려던 항만사용료 및 터미널 임대료 감면조치를 내년 6...</td>\n",
       "      <td>1</td>\n",
       "      <td>P1</td>\n",
       "      <td>0</td>\n",
       "      <td>13</td>\n",
       "    </tr>\n",
       "    <tr>\n",
       "      <th>5</th>\n",
       "      <td>경제</td>\n",
       "      <td>김학도 중진공 이사장, 정책자금 접수 첫날 점검 나서</td>\n",
       "      <td>2022년 정책자금 신청·접수 진행 상황 확인…신속 집행 독려 모바일 브랜치 도입,...</td>\n",
       "      <td>중소벤처기업진흥공단(이하 중진공)은 김학도 이사장이 30일 경남 진주 중진공 본사에...</td>\n",
       "      <td>1</td>\n",
       "      <td>P1</td>\n",
       "      <td>0</td>\n",
       "      <td>10</td>\n",
       "    </tr>\n",
       "  </tbody>\n",
       "</table>\n",
       "</div>"
      ],
      "text/plain": [
       "  newsCategory                                        newsTitle  \\\n",
       "0           경제                                CCTV 영상으로 핫해진 에스원   \n",
       "4           경제  홍남기 \\\"항만사용료 감면 6개월 더\\\"…코로나 장기화에 한시조치 줄줄이 연장(상보)   \n",
       "5           경제                    김학도 중진공 이사장, 정책자금 접수 첫날 점검 나서   \n",
       "\n",
       "                                        newsSubTitle  \\\n",
       "0  에스원 자체 제작 영상, 유튜브·틱톡 조회수 3500만회 돌파 유튜버들과 협업한 콘...   \n",
       "4                                      비상경제 중앙대책본부회의   \n",
       "5  2022년 정책자금 신청·접수 진행 상황 확인…신속 집행 독려 모바일 브랜치 도입,...   \n",
       "\n",
       "                                         newsContent  useType partNum  \\\n",
       "0  #. 서울의 한 카페, 아르바이트생이 마감 청소 중 춤을 추고 있다.\\n춤 솜씨가 ...        1      P1   \n",
       "4  정부가 당초 올해 말까지 시행하려던 항만사용료 및 터미널 임대료 감면조치를 내년 6...        1      P1   \n",
       "5  중소벤처기업진흥공단(이하 중진공)은 김학도 이사장이 30일 경남 진주 중진공 본사에...        1      P1   \n",
       "\n",
       "   processPattern  sentenceCount  \n",
       "0               0             15  \n",
       "4               0             13  \n",
       "5               0             10  "
      ]
     },
     "execution_count": 17,
     "metadata": {},
     "output_type": "execute_result"
    }
   ],
   "source": [
    "df_x.head(3)"
   ]
  },
  {
   "cell_type": "code",
   "execution_count": 18,
   "metadata": {},
   "outputs": [
    {
     "name": "stderr",
     "output_type": "stream",
     "text": [
      "C:\\Users\\administ\\ipykernel_9616\\1838152390.py:1: SettingWithCopyWarning: \n",
      "A value is trying to be set on a copy of a slice from a DataFrame.\n",
      "Try using .loc[row_indexer,col_indexer] = value instead\n",
      "\n",
      "See the caveats in the documentation: https://pandas.pydata.org/pandas-docs/stable/user_guide/indexing.html#returning-a-view-versus-a-copy\n",
      "  df_o['본문글자수'] = df_o['newsContent'].map(lambda x : len(x))\n",
      "C:\\Users\\administ\\ipykernel_9616\\1838152390.py:2: SettingWithCopyWarning: \n",
      "A value is trying to be set on a copy of a slice from a DataFrame.\n",
      "Try using .loc[row_indexer,col_indexer] = value instead\n",
      "\n",
      "See the caveats in the documentation: https://pandas.pydata.org/pandas-docs/stable/user_guide/indexing.html#returning-a-view-versus-a-copy\n",
      "  df_x['본문글자수'] = df_x['newsContent'].map(lambda x : len(x))\n",
      "C:\\Users\\administ\\ipykernel_9616\\1838152390.py:3: SettingWithCopyWarning: \n",
      "A value is trying to be set on a copy of a slice from a DataFrame.\n",
      "Try using .loc[row_indexer,col_indexer] = value instead\n",
      "\n",
      "See the caveats in the documentation: https://pandas.pydata.org/pandas-docs/stable/user_guide/indexing.html#returning-a-view-versus-a-copy\n",
      "  df_o['제목글자수'] = df_o['newsTitle'].map(lambda x : len(x))\n",
      "C:\\Users\\administ\\ipykernel_9616\\1838152390.py:4: SettingWithCopyWarning: \n",
      "A value is trying to be set on a copy of a slice from a DataFrame.\n",
      "Try using .loc[row_indexer,col_indexer] = value instead\n",
      "\n",
      "See the caveats in the documentation: https://pandas.pydata.org/pandas-docs/stable/user_guide/indexing.html#returning-a-view-versus-a-copy\n",
      "  df_x['제목글자수'] = df_x['newsTitle'].map(lambda x : len(x))\n"
     ]
    }
   ],
   "source": [
    "df_o['본문글자수'] = df_o['newsContent'].map(lambda x : len(x))\n",
    "df_x['본문글자수'] = df_x['newsContent'].map(lambda x : len(x))\n",
    "df_o['제목글자수'] = df_o['newsTitle'].map(lambda x : len(x))\n",
    "df_x['제목글자수'] = df_x['newsTitle'].map(lambda x : len(x))"
   ]
  },
  {
   "cell_type": "code",
   "execution_count": 19,
   "metadata": {},
   "outputs": [
    {
     "data": {
      "text/plain": [
       "1217.9997490496417"
      ]
     },
     "execution_count": 19,
     "metadata": {},
     "output_type": "execute_result"
    }
   ],
   "source": [
    "df_x['본문글자수'].mean()"
   ]
  },
  {
   "cell_type": "code",
   "execution_count": 20,
   "metadata": {},
   "outputs": [
    {
     "name": "stdout",
     "output_type": "stream",
     "text": [
      "낚시기사x 본문글자수 : 1217.9997490496417\n",
      "낚시기사 본문글자수 : 1212.2218801951076 \n",
      "낚시기사x 제목글자수 : 30.32116069187943 \n",
      "낚시기사 제목글자수 : 29.075421545881365  \n"
     ]
    }
   ],
   "source": [
    "print(f\"낚시기사x 본문글자수 : {df_x['본문글자수'].mean()}\")\n",
    "print(f\"낚시기사 본문글자수 : {df_o['본문글자수'].mean()} \")\n",
    "print(f\"낚시기사x 제목글자수 : {df_x['제목글자수'].mean()} \")\n",
    "print(f\"낚시기사 제목글자수 : {df_o['제목글자수'].mean()}  \")"
   ]
  },
  {
   "cell_type": "markdown",
   "metadata": {},
   "source": [
    "-> 낚시기사가 본문 , 제목 글자수 미세하게 더 작다 "
   ]
  },
  {
   "cell_type": "code",
   "execution_count": 21,
   "metadata": {},
   "outputs": [
    {
     "name": "stderr",
     "output_type": "stream",
     "text": [
      "C:\\Users\\administ\\ipykernel_9616\\2096709625.py:1: SettingWithCopyWarning: \n",
      "A value is trying to be set on a copy of a slice from a DataFrame.\n",
      "Try using .loc[row_indexer,col_indexer] = value instead\n",
      "\n",
      "See the caveats in the documentation: https://pandas.pydata.org/pandas-docs/stable/user_guide/indexing.html#returning-a-view-versus-a-copy\n",
      "  df_o['newsContent'] = df_o['newsContent'].str.replace('\\n', ' ')\n",
      "C:\\Users\\administ\\ipykernel_9616\\2096709625.py:2: SettingWithCopyWarning: \n",
      "A value is trying to be set on a copy of a slice from a DataFrame.\n",
      "Try using .loc[row_indexer,col_indexer] = value instead\n",
      "\n",
      "See the caveats in the documentation: https://pandas.pydata.org/pandas-docs/stable/user_guide/indexing.html#returning-a-view-versus-a-copy\n",
      "  df_o['newsContent'] = df_o['newsContent'].str.replace('\\\\', ' ')\n",
      "C:\\Users\\administ\\ipykernel_9616\\2096709625.py:3: SettingWithCopyWarning: \n",
      "A value is trying to be set on a copy of a slice from a DataFrame.\n",
      "Try using .loc[row_indexer,col_indexer] = value instead\n",
      "\n",
      "See the caveats in the documentation: https://pandas.pydata.org/pandas-docs/stable/user_guide/indexing.html#returning-a-view-versus-a-copy\n",
      "  df_o['newsContent'] = df_o['newsContent'].str.replace('.', ' ')\n",
      "C:\\Users\\administ\\ipykernel_9616\\2096709625.py:5: SettingWithCopyWarning: \n",
      "A value is trying to be set on a copy of a slice from a DataFrame.\n",
      "Try using .loc[row_indexer,col_indexer] = value instead\n",
      "\n",
      "See the caveats in the documentation: https://pandas.pydata.org/pandas-docs/stable/user_guide/indexing.html#returning-a-view-versus-a-copy\n",
      "  df_x['newsContent'] = df_x['newsContent'].str.replace('\\n', ' ')\n",
      "C:\\Users\\administ\\ipykernel_9616\\2096709625.py:6: SettingWithCopyWarning: \n",
      "A value is trying to be set on a copy of a slice from a DataFrame.\n",
      "Try using .loc[row_indexer,col_indexer] = value instead\n",
      "\n",
      "See the caveats in the documentation: https://pandas.pydata.org/pandas-docs/stable/user_guide/indexing.html#returning-a-view-versus-a-copy\n",
      "  df_x['newsContent'] = df_x['newsContent'].str.replace('\\\\', ' ')\n",
      "C:\\Users\\administ\\ipykernel_9616\\2096709625.py:7: SettingWithCopyWarning: \n",
      "A value is trying to be set on a copy of a slice from a DataFrame.\n",
      "Try using .loc[row_indexer,col_indexer] = value instead\n",
      "\n",
      "See the caveats in the documentation: https://pandas.pydata.org/pandas-docs/stable/user_guide/indexing.html#returning-a-view-versus-a-copy\n",
      "  df_x['newsContent'] = df_x['newsContent'].str.replace('.', ' ')\n"
     ]
    }
   ],
   "source": [
    "df_o['newsContent'] = df_o['newsContent'].str.replace('\\n', ' ')\n",
    "df_o['newsContent'] = df_o['newsContent'].str.replace('\\\\', ' ')\n",
    "df_o['newsContent'] = df_o['newsContent'].str.replace('.', ' ')\n",
    "\n",
    "df_x['newsContent'] = df_x['newsContent'].str.replace('\\n', ' ')\n",
    "df_x['newsContent'] = df_x['newsContent'].str.replace('\\\\', ' ')\n",
    "df_x['newsContent'] = df_x['newsContent'].str.replace('.', ' ')                                                  "
   ]
  },
  {
   "cell_type": "code",
   "execution_count": 22,
   "metadata": {},
   "outputs": [
    {
     "name": "stderr",
     "output_type": "stream",
     "text": [
      "C:\\Users\\administ\\ipykernel_9616\\2900813070.py:1: SettingWithCopyWarning: \n",
      "A value is trying to be set on a copy of a slice from a DataFrame.\n",
      "Try using .loc[row_indexer,col_indexer] = value instead\n",
      "\n",
      "See the caveats in the documentation: https://pandas.pydata.org/pandas-docs/stable/user_guide/indexing.html#returning-a-view-versus-a-copy\n",
      "  df_o['본문 단어'] = df_o['newsContent'].apply(lambda x: x.split())\n",
      "C:\\Users\\administ\\ipykernel_9616\\2900813070.py:2: SettingWithCopyWarning: \n",
      "A value is trying to be set on a copy of a slice from a DataFrame.\n",
      "Try using .loc[row_indexer,col_indexer] = value instead\n",
      "\n",
      "See the caveats in the documentation: https://pandas.pydata.org/pandas-docs/stable/user_guide/indexing.html#returning-a-view-versus-a-copy\n",
      "  df_x['본문 단어'] = df_x['newsContent'].apply(lambda x: x.split())\n",
      "C:\\Users\\administ\\ipykernel_9616\\2900813070.py:3: SettingWithCopyWarning: \n",
      "A value is trying to be set on a copy of a slice from a DataFrame.\n",
      "Try using .loc[row_indexer,col_indexer] = value instead\n",
      "\n",
      "See the caveats in the documentation: https://pandas.pydata.org/pandas-docs/stable/user_guide/indexing.html#returning-a-view-versus-a-copy\n",
      "  df_o['본문 단어 수'] = df_o['newsContent'].apply(lambda x: len(x.split()))\n",
      "C:\\Users\\administ\\ipykernel_9616\\2900813070.py:4: SettingWithCopyWarning: \n",
      "A value is trying to be set on a copy of a slice from a DataFrame.\n",
      "Try using .loc[row_indexer,col_indexer] = value instead\n",
      "\n",
      "See the caveats in the documentation: https://pandas.pydata.org/pandas-docs/stable/user_guide/indexing.html#returning-a-view-versus-a-copy\n",
      "  df_x['본문 단어 수'] = df_x['newsContent'].apply(lambda x: len(x.split()))\n"
     ]
    }
   ],
   "source": [
    "df_o['본문 단어'] = df_o['newsContent'].apply(lambda x: x.split())\n",
    "df_x['본문 단어'] = df_x['newsContent'].apply(lambda x: x.split())\n",
    "df_o['본문 단어 수'] = df_o['newsContent'].apply(lambda x: len(x.split()))\n",
    "df_x['본문 단어 수'] = df_x['newsContent'].apply(lambda x: len(x.split()))"
   ]
  },
  {
   "cell_type": "code",
   "execution_count": 32,
   "metadata": {},
   "outputs": [],
   "source": [
    "df['본문 단어 수'] = df['newsContent'].apply(lambda x: len(x.split()))"
   ]
  },
  {
   "cell_type": "code",
   "execution_count": 24,
   "metadata": {},
   "outputs": [
    {
     "name": "stdout",
     "output_type": "stream",
     "text": [
      "낚시기사x 본문 단어수 : 278.6235837570057\n",
      "낚시기사 본문 단어수 : 274.78789345804637 \n"
     ]
    }
   ],
   "source": [
    "print(f\"낚시기사x 본문 단어수 : {df_x['본문 단어 수'].mean()}\" )\n",
    "print(f\"낚시기사 본문 단어수 : {df_o['본문 단어 수'].mean()} \")"
   ]
  },
  {
   "cell_type": "code",
   "execution_count": 35,
   "metadata": {},
   "outputs": [
    {
     "data": {
      "text/plain": [
       "<Axes: xlabel='useType', ylabel='본문 단어 수'>"
      ]
     },
     "execution_count": 35,
     "metadata": {},
     "output_type": "execute_result"
    },
    {
     "name": "stderr",
     "output_type": "stream",
     "text": [
      "c:\\Users\\administ\\Desktop\\cj해커톤\\311test\\Lib\\site-packages\\IPython\\core\\events.py:93: UserWarning: Glyph 48376 (\\N{HANGUL SYLLABLE BON}) missing from current font.\n",
      "  func(*args, **kwargs)\n",
      "c:\\Users\\administ\\Desktop\\cj해커톤\\311test\\Lib\\site-packages\\IPython\\core\\events.py:93: UserWarning: Glyph 47928 (\\N{HANGUL SYLLABLE MUN}) missing from current font.\n",
      "  func(*args, **kwargs)\n",
      "c:\\Users\\administ\\Desktop\\cj해커톤\\311test\\Lib\\site-packages\\IPython\\core\\events.py:93: UserWarning: Glyph 45800 (\\N{HANGUL SYLLABLE DAN}) missing from current font.\n",
      "  func(*args, **kwargs)\n",
      "c:\\Users\\administ\\Desktop\\cj해커톤\\311test\\Lib\\site-packages\\IPython\\core\\events.py:93: UserWarning: Glyph 50612 (\\N{HANGUL SYLLABLE EO}) missing from current font.\n",
      "  func(*args, **kwargs)\n",
      "c:\\Users\\administ\\Desktop\\cj해커톤\\311test\\Lib\\site-packages\\IPython\\core\\events.py:93: UserWarning: Glyph 49688 (\\N{HANGUL SYLLABLE SU}) missing from current font.\n",
      "  func(*args, **kwargs)\n",
      "c:\\Users\\administ\\Desktop\\cj해커톤\\311test\\Lib\\site-packages\\IPython\\core\\pylabtools.py:152: UserWarning: Glyph 48376 (\\N{HANGUL SYLLABLE BON}) missing from current font.\n",
      "  fig.canvas.print_figure(bytes_io, **kw)\n",
      "c:\\Users\\administ\\Desktop\\cj해커톤\\311test\\Lib\\site-packages\\IPython\\core\\pylabtools.py:152: UserWarning: Glyph 47928 (\\N{HANGUL SYLLABLE MUN}) missing from current font.\n",
      "  fig.canvas.print_figure(bytes_io, **kw)\n",
      "c:\\Users\\administ\\Desktop\\cj해커톤\\311test\\Lib\\site-packages\\IPython\\core\\pylabtools.py:152: UserWarning: Glyph 45800 (\\N{HANGUL SYLLABLE DAN}) missing from current font.\n",
      "  fig.canvas.print_figure(bytes_io, **kw)\n",
      "c:\\Users\\administ\\Desktop\\cj해커톤\\311test\\Lib\\site-packages\\IPython\\core\\pylabtools.py:152: UserWarning: Glyph 50612 (\\N{HANGUL SYLLABLE EO}) missing from current font.\n",
      "  fig.canvas.print_figure(bytes_io, **kw)\n",
      "c:\\Users\\administ\\Desktop\\cj해커톤\\311test\\Lib\\site-packages\\IPython\\core\\pylabtools.py:152: UserWarning: Glyph 49688 (\\N{HANGUL SYLLABLE SU}) missing from current font.\n",
      "  fig.canvas.print_figure(bytes_io, **kw)\n"
     ]
    },
    {
     "data": {
      "image/png": "[encoded data removed]",
      "text/plain": [
       "<Figure size 640x480 with 1 Axes>"
      ]
     },
     "metadata": {},
     "output_type": "display_data"
    }
   ],
   "source": [
    "sns.barplot(x='useType', y='본문 단어 수', data=df)"
   ]
  },
  {
   "cell_type": "code",
   "execution_count": null,
   "metadata": {},
   "outputs": [],
   "source": []
  },
  {
   "cell_type": "code",
   "execution_count": 27,
   "metadata": {},
   "outputs": [],
   "source": [
    "df_x.reset_index(inplace=True)\n",
    "df_o.reset_index(inplace=True)"
   ]
  },
  {
   "cell_type": "code",
   "execution_count": 28,
   "metadata": {},
   "outputs": [
    {
     "data": {
      "text/plain": [
       "0         227\n",
       "1         310\n",
       "2         162\n",
       "3         175\n",
       "4         233\n",
       "         ... \n",
       "107586    306\n",
       "107587    294\n",
       "107588    551\n",
       "107589    186\n",
       "107590    260\n",
       "Name: 본문 단어 수, Length: 107591, dtype: int64"
      ]
     },
     "execution_count": 28,
     "metadata": {},
     "output_type": "execute_result"
    }
   ],
   "source": [
    "df_x['본문 단어 수']"
   ]
  },
  {
   "cell_type": "markdown",
   "metadata": {},
   "source": [
    "#### 2. 제목과 본문 일치도"
   ]
  },
  {
   "cell_type": "code",
   "execution_count": 26,
   "metadata": {},
   "outputs": [
    {
     "name": "stderr",
     "output_type": "stream",
     "text": [
      "C:\\Users\\administ\\ipykernel_20968\\1939631648.py:5: SettingWithCopyWarning: \n",
      "A value is trying to be set on a copy of a slice from a DataFrame.\n",
      "Try using .loc[row_indexer,col_indexer] = value instead\n",
      "\n",
      "See the caveats in the documentation: https://pandas.pydata.org/pandas-docs/stable/user_guide/indexing.html#returning-a-view-versus-a-copy\n",
      "  df_x['일치도'] = df_x.apply(lambda row: levenshtein_distance(row['newsTitle'], row['newsContent']), axis=1)\n",
      "C:\\Users\\administ\\ipykernel_20968\\1939631648.py:6: SettingWithCopyWarning: \n",
      "A value is trying to be set on a copy of a slice from a DataFrame.\n",
      "Try using .loc[row_indexer,col_indexer] = value instead\n",
      "\n",
      "See the caveats in the documentation: https://pandas.pydata.org/pandas-docs/stable/user_guide/indexing.html#returning-a-view-versus-a-copy\n",
      "  df_o['일치도'] = df_o.apply(lambda row: levenshtein_distance(row['newsTitle'], row['newsContent']), axis=1)\n"
     ]
    }
   ],
   "source": [
    "import Levenshtein # Levenshtein 사용 \n",
    "def levenshtein_distance(s1, s2):\n",
    "    return Levenshtein.distance(s1, s2)\n",
    "\n",
    "df_x['일치도'] = df_x.apply(lambda row: levenshtein_distance(row['newsTitle'], row['newsContent']), axis=1)\n",
    "df_o['일치도'] = df_o.apply(lambda row: levenshtein_distance(row['newsTitle'], row['newsContent']), axis=1)"
   ]
  },
  {
   "cell_type": "code",
   "execution_count": 27,
   "metadata": {},
   "outputs": [
    {
     "name": "stdout",
     "output_type": "stream",
     "text": [
      "낚시기사x 제목/본문 일치도 : 1043.0070870729369 \n",
      "낚시기사 제목/본문 일치도 : 1041.6924624503793 \n"
     ]
    }
   ],
   "source": [
    "print(f'낚시기사x 제목/본문 일치도 : {df_x['일치도'].mean()} ')\n",
    "print(f'낚시기사 제목/본문 일치도 : {df_o['일치도'].mean()} ')\n",
    "# 일치도는 낚시기사 아닌것이 높앗음 = good"
   ]
  },
  {
   "cell_type": "code",
   "execution_count": 28,
   "metadata": {},
   "outputs": [
    {
     "name": "stderr",
     "output_type": "stream",
     "text": [
      "C:\\Users\\administ\\ipykernel_20968\\2262262308.py:8: SettingWithCopyWarning: \n",
      "A value is trying to be set on a copy of a slice from a DataFrame.\n",
      "Try using .loc[row_indexer,col_indexer] = value instead\n",
      "\n",
      "See the caveats in the documentation: https://pandas.pydata.org/pandas-docs/stable/user_guide/indexing.html#returning-a-view-versus-a-copy\n",
      "  df_x['유사도'] = df_x.apply(lambda row: similarity_score(row['newsTitle'], row['newsContent']), axis=1)\n",
      "C:\\Users\\administ\\ipykernel_20968\\2262262308.py:9: SettingWithCopyWarning: \n",
      "A value is trying to be set on a copy of a slice from a DataFrame.\n",
      "Try using .loc[row_indexer,col_indexer] = value instead\n",
      "\n",
      "See the caveats in the documentation: https://pandas.pydata.org/pandas-docs/stable/user_guide/indexing.html#returning-a-view-versus-a-copy\n",
      "  df_o['유사도'] = df_o.apply(lambda row: similarity_score(row['newsTitle'], row['newsContent']), axis=1)\n"
     ]
    }
   ],
   "source": [
    "import difflib\n",
    "\n",
    "def similarity_score(string1, string2):\n",
    "    matcher = difflib.SequenceMatcher(None, string1, string2)\n",
    "    return matcher.ratio()\n",
    "\n",
    "# 데이터프레임의 각 행에 대해 유사성 계산\n",
    "df_x['유사도'] = df_x.apply(lambda row: similarity_score(row['newsTitle'], row['newsContent']), axis=1)\n",
    "df_o['유사도'] = df_o.apply(lambda row: similarity_score(row['newsTitle'], row['newsContent']), axis=1)"
   ]
  },
  {
   "cell_type": "code",
   "execution_count": 31,
   "metadata": {},
   "outputs": [
    {
     "name": "stdout",
     "output_type": "stream",
     "text": [
      "낚시기사x 제목/본문 유사도 : 0.04480092962671489 \n",
      "낚시기사 제목/본문 유사도 : 0.04336602156106317\n"
     ]
    }
   ],
   "source": [
    "print(f'낚시기사x 제목/본문 유사도 : {df_x['유사도'].mean()} ')\n",
    "print(f'낚시기사 제목/본문 유사도 : {df_o['유사도'].mean()}')"
   ]
  }
 ],
 "metadata": {
  "kernelspec": {
   "display_name": "test",
   "language": "python",
   "name": "python3"
  },
  "language_info": {
   "codemirror_mode": {
    "name": "ipython",
    "version": 3
   },
   "file_extension": ".py",
   "mimetype": "text/x-python",
   "name": "python",
   "nbconvert_exporter": "python",
   "pygments_lexer": "ipython3",
   "version": "3.11.6"
  }
 },
 "nbformat": 4,
 "nbformat_minor": 2
}
